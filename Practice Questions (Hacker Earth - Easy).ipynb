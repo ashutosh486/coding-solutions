{
 "cells": [
  {
   "cell_type": "code",
   "execution_count": null,
   "metadata": {},
   "outputs": [],
   "source": [
    "## Daisy and the Password\n",
    "num = input()\n",
    "for i in range(int(num)):\n",
    "    inp_name = input()\n",
    "    S, P = inp_name.split(\" \")\n",
    "    possible = False\n",
    "    st_idx_found = [i for i, _ in enumerate(P) if P.startswith(S, i)]\n",
    "    for start_idx in st_idx_found:\n",
    "        end_idx = start_idx+len(S)\n",
    "        if S == P[:start_idx] + P[end_idx:]:\n",
    "            possible=True\n",
    "            break\n",
    "    \n",
    "    if possible:\n",
    "        print(\"Possible\")\n",
    "    else:\n",
    "        print(\"Impossible\")"
   ]
  },
  {
   "cell_type": "code",
   "execution_count": null,
   "metadata": {},
   "outputs": [],
   "source": [
    "## Monk and Rotation\n",
    "num_tests = int(input())\n",
    "for num_t in range(num_tests):\n",
    "    array_len, rotations = input().split(\" \")\n",
    "    array_A = input().split()\n",
    "    K = int(rotations) % len(array_A)\n",
    "    for i in array_A[-K:] + array_A[:-K]:\n",
    "        print(i, end=\" \")\n",
    "    print()"
   ]
  },
  {
   "cell_type": "code",
   "execution_count": null,
   "metadata": {},
   "outputs": [],
   "source": [
    "## Basic Probability Models and Rules\n",
    "pmb = float(input())\n",
    "pab = float(input())\n",
    "p1 = float(input())\n",
    "prs = (pmb*(1-pab) + (1-pmb)*pab)*p1\n",
    "\n",
    "print(f\"{prs:6f}\")"
   ]
  },
  {
   "cell_type": "code",
   "execution_count": null,
   "metadata": {},
   "outputs": [],
   "source": [
    "## Bayes’ rules, Conditional probability, Chain rule\n",
    "pct = 0.2\n",
    "pot = 0.3\n",
    "N = 10\n",
    "\n",
    "prob_ontime = (1-pct)*pot + pct*2/N\n",
    "print(f\"{prob_ontime:6f}\")"
   ]
  },
  {
   "cell_type": "code",
   "execution_count": null,
   "metadata": {},
   "outputs": [],
   "source": [
    "## Favourite Singer\n",
    "num_songs = int(input())\n",
    "singers = input().split(\" \")\n",
    "\n",
    "singers_dict = {}\n",
    "\n",
    "for i in singers:\n",
    "    if i not in singers_dict.keys():\n",
    "        singers_dict[i] = 0\n",
    "    singers_dict[i] +=1\n",
    "\n",
    "songs_per_singers = sorted(singers_dict.items(), key=lambda x: x[1], reverse=True)\n",
    "max_played = songs_per_singers[0][1]\n",
    "num_max_played_singers = 0\n",
    "for singer, times_played in songs_per_singers:\n",
    "    if times_played == max_played:\n",
    "        num_max_played_singers+=1\n",
    "    else:\n",
    "        break\n",
    "print(num_max_played_singers)"
   ]
  },
  {
   "cell_type": "code",
   "execution_count": null,
   "metadata": {},
   "outputs": [],
   "source": [
    "## Number of steps\n",
    "n = int(input())\n",
    "an = list(map(int, input().split(\" \")))\n",
    "bn = list(map(int, input().split(\" \")))\n",
    "\n",
    "possible_options = []\n",
    "\n",
    "for ai, bi in zip(an, bn):\n",
    "    if bi==0:\n",
    "        possible_options.append([ai])\n",
    "    else:\n",
    "        possible_options.append([ai-bi*i for i in range(ai//bi+2) if ai-bi*(i-1) >= bi])\n",
    "all_common = list(set(possible_options[0]).intersection(*possible_options[1:]))\n",
    "if len(all_common)>0:\n",
    "\n",
    "    max_common = max(all_common)\n",
    "\n",
    "    num_steps = 0\n",
    "    for comm in possible_options:\n",
    "        for i in comm:\n",
    "            if max_common == i:\n",
    "                break\n",
    "            num_steps+=1\n",
    "    print(num_steps)\n",
    "else:\n",
    "    print(-1)"
   ]
  },
  {
   "cell_type": "code",
   "execution_count": null,
   "metadata": {},
   "outputs": [],
   "source": [
    "## Best Index\n",
    "n = int(input())\n",
    "An = list(map(int, input().split(\" \")))\n",
    "\n",
    "def get_sum_index(X):\n",
    "    steps=1\n",
    "    idx = 0\n",
    "    track_sum = 0\n",
    "    while idx+steps<=len(X):\n",
    "        track_sum += sum(X[idx:idx+steps])\n",
    "        idx=idx+steps\n",
    "        steps+=1\n",
    "    return track_sum\n",
    "\n",
    "all_special_sums = [ get_sum_index(An[i:]) for i in range(len(An))]\n",
    "print(max(all_special_sums))"
   ]
  },
  {
   "cell_type": "code",
   "execution_count": null,
   "metadata": {},
   "outputs": [],
   "source": [
    "## Factorial\n",
    "\n",
    "def get_factorial(n):\n",
    "    if n==1:\n",
    "        return 1\n",
    "    else:\n",
    "        return n*get_factorial(n-1)\n",
    "\n",
    "n = int(input())\n",
    "factorial = get_factorial(n)\n",
    "\n",
    "print(factorial)"
   ]
  },
  {
   "cell_type": "code",
   "execution_count": null,
   "metadata": {},
   "outputs": [],
   "source": [
    "## Palindromic String\n",
    "\n",
    "def is_palindrome(text):\n",
    "    total_len=len(text)\n",
    "    for i in range(total_len):\n",
    "        if text[i]!=text[total_len-i-1]:\n",
    "            return \"NO\"\n",
    "    else:\n",
    "        return \"YES\"\n",
    "\n",
    "text = input()\n",
    "\n",
    "print(is_palindrome(text))"
   ]
  },
  {
   "cell_type": "code",
   "execution_count": null,
   "metadata": {},
   "outputs": [],
   "source": [
    "## Sum of Array\n",
    "N = int(input())\n",
    "A = list(map(int, input().split(\" \")))\n",
    "\n",
    "total_sum = 0\n",
    "for i in range(N):\n",
    "    total_sum += A[i]\n",
    "print(total_sum)\n"
   ]
  },
  {
   "cell_type": "code",
   "execution_count": null,
   "metadata": {},
   "outputs": [],
   "source": [
    "## Zoos\n",
    "def is_zoo(text):\n",
    "    x = 0\n",
    "    y = 0\n",
    "    for i in text.lower():\n",
    "        if i==\"z\":\n",
    "            x+=1\n",
    "        elif i==\"o\":\n",
    "            y+=1\n",
    "    if 2*x == y:\n",
    "        return \"Yes\"\n",
    "    else:\n",
    "        return \"No\"\n",
    "\n",
    "text = input()\n",
    "print(is_zoo(text))\n"
   ]
  },
  {
   "cell_type": "code",
   "execution_count": null,
   "metadata": {},
   "outputs": [],
   "source": [
    "## Maximum borders\n",
    "test_cases = int(input())\n",
    "for t in range(test_cases):\n",
    "    m, n = list(map(int, input().split(\" \")))\n",
    "    A = []\n",
    "    max_corners = 0\n",
    "    for row in range(m):\n",
    "        A.append([i for i in input()])\n",
    "    \n",
    "    for row in range(m):\n",
    "        temp_count = 1\n",
    "        for col in range(n-1):\n",
    "            if A[row][col]==A[row][col+1] and A[row][col]==\"#\":\n",
    "                temp_count+=1\n",
    "            else:\n",
    "                temp_count=1\n",
    "            if max_corners <= temp_count:\n",
    "                max_corners = temp_count\n",
    "        \n",
    "    for col in range(n):\n",
    "        temp_count = 1\n",
    "        for row in range(m-1):\n",
    "            if A[row][col]==A[row+1][col] and A[row][col]==\"#\":\n",
    "                temp_count+=1\n",
    "            else:\n",
    "                temp_count=1\n",
    "            if max_corners <= temp_count:\n",
    "                max_corners = temp_count\n",
    "\n",
    "    print(max_corners)"
   ]
  },
  {
   "cell_type": "code",
   "execution_count": null,
   "metadata": {},
   "outputs": [],
   "source": [
    "## Divisibility\n",
    "N = int(input())\n",
    "A = list(map(int, input().split()))\n",
    "\n",
    "if A[-1] % 10 == 0:\n",
    "    print(\"Yes\")\n",
    "else:\n",
    "    print(\"No\")"
   ]
  },
  {
   "cell_type": "code",
   "execution_count": null,
   "metadata": {},
   "outputs": [],
   "source": [
    "## Split houses\n",
    "n = int(input())\n",
    "grids = [i for i in input()]\n",
    "\n",
    "for i in range(n-1):\n",
    "    if grids[i]==grids[i+1] and grids[i]==\"H\":\n",
    "        print(\"NO\")\n",
    "        break\n",
    "else:\n",
    "    print(\"YES\")\n",
    "    print(\"\".join(grids).replace(\".\", \"B\"))\n"
   ]
  },
  {
   "cell_type": "code",
   "execution_count": null,
   "metadata": {},
   "outputs": [],
   "source": [
    "## Cost of balloons\n",
    "T = int(input())\n",
    "\n",
    "for t in range(T):\n",
    "    green_cost, purple_cost = list(map(int, input().split()))\n",
    "    n = int(input())\n",
    "    count_correct_q1 = 0\n",
    "    count_correct_q2 = 0\n",
    "    for i in range(n):\n",
    "        q1, q2 = list(map(int, input().split()))\n",
    "        count_correct_q1+=q1\n",
    "        count_correct_q2+=q2\n",
    "    scenerio_1 = count_correct_q1*green_cost + count_correct_q2*purple_cost\n",
    "    scenerio_2 = count_correct_q1*purple_cost + count_correct_q2*green_cost\n",
    "    print(min(scenerio_1, scenerio_2))\n"
   ]
  },
  {
   "cell_type": "code",
   "execution_count": null,
   "metadata": {},
   "outputs": [],
   "source": [
    "## Seven-Segment Display\n",
    "T = int(input())\n",
    "\n",
    "number2matchsticks = {0:6, 1:2, 2:5, 3:5, 4:4, 5:5, 6:6, 7:3, 8:7, 9:6}\n",
    "\n",
    "for t in range(T):\n",
    "    number = input()\n",
    "    num_matchsticks = sum(number2matchsticks[int(n)] for n in number)\n",
    "\n",
    "    quotient = num_matchsticks//2\n",
    "    remainder = num_matchsticks%2\n",
    "    if remainder == 0:\n",
    "        print(\"1\"*quotient)\n",
    "    else:\n",
    "        print(\"7\"+\"1\"*(quotient-1))"
   ]
  }
 ],
 "metadata": {
  "language_info": {
   "name": "python"
  }
 },
 "nbformat": 4,
 "nbformat_minor": 2
}
