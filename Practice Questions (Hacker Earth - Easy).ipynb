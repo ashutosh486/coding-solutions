{
 "cells": [
  {
   "cell_type": "code",
   "execution_count": null,
   "metadata": {},
   "outputs": [],
   "source": [
    "## Daisy and the Password\n",
    "num = input()\n",
    "for i in range(int(num)):\n",
    "    inp_name = input()\n",
    "    S, P = inp_name.split(\" \")\n",
    "    possible = False\n",
    "    st_idx_found = [i for i, _ in enumerate(P) if P.startswith(S, i)]\n",
    "    for start_idx in st_idx_found:\n",
    "        end_idx = start_idx+len(S)\n",
    "        if S == P[:start_idx] + P[end_idx:]:\n",
    "            possible=True\n",
    "            break\n",
    "    \n",
    "    if possible:\n",
    "        print(\"Possible\")\n",
    "    else:\n",
    "        print(\"Impossible\")"
   ]
  },
  {
   "cell_type": "code",
   "execution_count": null,
   "metadata": {},
   "outputs": [],
   "source": [
    "## Monk and Rotation\n",
    "num_tests = int(input())\n",
    "for num_t in range(num_tests):\n",
    "    array_len, rotations = input().split(\" \")\n",
    "    array_A = input().split()\n",
    "    K = int(rotations) % len(array_A)\n",
    "    for i in array_A[-K:] + array_A[:-K]:\n",
    "        print(i, end=\" \")\n",
    "    print()\n",
    "    "
   ]
  },
  {
   "cell_type": "code",
   "execution_count": null,
   "metadata": {},
   "outputs": [],
   "source": []
  },
  {
   "cell_type": "code",
   "execution_count": null,
   "metadata": {},
   "outputs": [],
   "source": []
  },
  {
   "cell_type": "code",
   "execution_count": null,
   "metadata": {},
   "outputs": [],
   "source": []
  }
 ],
 "metadata": {
  "language_info": {
   "name": "python"
  }
 },
 "nbformat": 4,
 "nbformat_minor": 2
}
