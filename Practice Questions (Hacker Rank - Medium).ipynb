{
 "cells": [
  {
   "cell_type": "code",
   "execution_count": 54,
   "metadata": {},
   "outputs": [],
   "source": [
    "# Complete the formingMagicSquare function below.\n",
    "def formingMagicSquare(s):\n",
    "    matrix_list = [[[8, 1, 6], [3, 5, 7], [4, 9, 2]],\n",
    "               [[6, 1, 8], [7, 5, 3], [2, 9, 4]],\n",
    "               [[4, 9, 2], [3, 5, 7], [8, 1, 6]],\n",
    "               [[2, 9, 4], [7, 5, 3], [6, 1, 8]],\n",
    "               [[8, 3, 4], [1, 5, 9], [6, 7, 2]],\n",
    "               [[4, 3, 8], [9, 5, 1], [2, 7, 6]],\n",
    "               [[6, 7, 2], [1, 5, 9], [8, 3, 4]],\n",
    "               [[2, 7, 6], [9, 5, 1], [4, 3, 8]]]\n",
    "    min_cost = 100\n",
    "    for matrix in matrix_list:\n",
    "        temp = 0\n",
    "        for a, b in zip(s, matrix):\n",
    "            for i, j in zip(a, b):\n",
    "                temp+=abs(i-j)\n",
    "        if temp<min_cost:\n",
    "            min_cost = temp\n",
    "    return min_cost"
   ]
  },
  {
   "cell_type": "code",
   "execution_count": 53,
   "metadata": {},
   "outputs": [],
   "source": [
    "def extraLongFactorials(n):\n",
    "    factorial = 1\n",
    "    for i in range(1, n+1):\n",
    "        factorial*=i\n",
    "    print(factorial)"
   ]
  },
  {
   "cell_type": "code",
   "execution_count": 51,
   "metadata": {},
   "outputs": [],
   "source": [
    "def climbingLeaderboard(ranked, player):\n",
    "    inc_score = sorted(list(set(ranked)))\n",
    "    n = len(inc_score)\n",
    "    final_ranking = []\n",
    "    index = 0\n",
    "    for score in player:\n",
    "        while n > index and score >= inc_score[index]:\n",
    "            index+=1\n",
    "        final_ranking.append(n-index+1)\n",
    "    return final_ranking"
   ]
  },
  {
   "cell_type": "code",
   "execution_count": null,
   "metadata": {},
   "outputs": [],
   "source": []
  }
 ],
 "metadata": {
  "kernelspec": {
   "display_name": "Python 3",
   "language": "python",
   "name": "python3"
  },
  "language_info": {
   "codemirror_mode": {
    "name": "ipython",
    "version": 3
   },
   "file_extension": ".py",
   "mimetype": "text/x-python",
   "name": "python",
   "nbconvert_exporter": "python",
   "pygments_lexer": "ipython3",
   "version": "3.8.3"
  }
 },
 "nbformat": 4,
 "nbformat_minor": 4
}
