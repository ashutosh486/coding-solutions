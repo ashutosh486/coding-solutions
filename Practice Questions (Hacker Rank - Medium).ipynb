{
 "cells": [
  {
   "cell_type": "code",
   "execution_count": 54,
   "metadata": {},
   "outputs": [],
   "source": [
    "# Complete the formingMagicSquare function below.\n",
    "def formingMagicSquare(s):\n",
    "    matrix_list = [[[8, 1, 6], [3, 5, 7], [4, 9, 2]],\n",
    "               [[6, 1, 8], [7, 5, 3], [2, 9, 4]],\n",
    "               [[4, 9, 2], [3, 5, 7], [8, 1, 6]],\n",
    "               [[2, 9, 4], [7, 5, 3], [6, 1, 8]],\n",
    "               [[8, 3, 4], [1, 5, 9], [6, 7, 2]],\n",
    "               [[4, 3, 8], [9, 5, 1], [2, 7, 6]],\n",
    "               [[6, 7, 2], [1, 5, 9], [8, 3, 4]],\n",
    "               [[2, 7, 6], [9, 5, 1], [4, 3, 8]]]\n",
    "    min_cost = 100\n",
    "    for matrix in matrix_list:\n",
    "        temp = 0\n",
    "        for a, b in zip(s, matrix):\n",
    "            for i, j in zip(a, b):\n",
    "                temp+=abs(i-j)\n",
    "        if temp<min_cost:\n",
    "            min_cost = temp\n",
    "    return min_cost"
   ]
  },
  {
   "cell_type": "code",
   "execution_count": 53,
   "metadata": {},
   "outputs": [],
   "source": [
    "def extraLongFactorials(n):\n",
    "    factorial = 1\n",
    "    for i in range(1, n+1):\n",
    "        factorial*=i\n",
    "    print(factorial)"
   ]
  },
  {
   "cell_type": "code",
   "execution_count": 51,
   "metadata": {},
   "outputs": [],
   "source": [
    "def climbingLeaderboard(ranked, player):\n",
    "    inc_score = sorted(list(set(ranked)))\n",
    "    n = len(inc_score)\n",
    "    final_ranking = []\n",
    "    index = 0\n",
    "    for score in player:\n",
    "        while n > index and score >= inc_score[index]:\n",
    "            index+=1\n",
    "        final_ranking.append(n-index+1)\n",
    "    return final_ranking"
   ]
  },
  {
   "cell_type": "code",
   "execution_count": 1,
   "metadata": {},
   "outputs": [],
   "source": [
    "# Complete the 'nonDivisibleSubset' function below.\n",
    "def nonDivisibleSubset(k, s):\n",
    "    # Write your code here\n",
    "    rem_dict = {rem:[] for rem in range(k)}\n",
    "    for val in s:\n",
    "        rem_dict[val%k].append(val)\n",
    "    rem_pair = [(i, k-i) for i in range(1, k//2+1)]\n",
    "    print(rem_pair, rem_dict, (k//2)+1)\n",
    "    if len(rem_dict[0])>0:\n",
    "        final_count = 1\n",
    "    else:\n",
    "        final_count = 0\n",
    "    for i,j in rem_pair:\n",
    "        if (i!=j):\n",
    "            if(len(rem_dict[i])>len(rem_dict[j])):\n",
    "                final_count+=len(rem_dict[i])\n",
    "            else:\n",
    "                final_count+=len(rem_dict[j])\n",
    "        else:\n",
    "            if(len(rem_dict[i])>0):\n",
    "                final_count+=1\n",
    "    return final_count"
   ]
  },
  {
   "cell_type": "code",
   "execution_count": 59,
   "metadata": {},
   "outputs": [],
   "source": [
    "# Complete the encryption function below.\n",
    "def encryption(s):\n",
    "    s = s.replace(' ', '')\n",
    "    s_len = len(s)\n",
    "    cur_row = math.floor(math.sqrt(s_len))\n",
    "    cur_col = math.ceil(math.sqrt(s_len))\n",
    "    area=cur_row*cur_col\n",
    "    while area<s_len:\n",
    "        if cur_col==cur_row:\n",
    "            cur_col+=1\n",
    "        else:\n",
    "            cur_row+=1\n",
    "        area=cur_row*cur_col\n",
    "    print(cur_row, cur_col)\n",
    "    encr_s = ''\n",
    "    i=0\n",
    "    while i<cur_col:\n",
    "        encr_s+=''.join([s[j*cur_col+i] for j in range(cur_row) if j*cur_col+i<s_len])+' '\n",
    "        i+=1\n",
    "    return encr_s[:-1]"
   ]
  },
  {
   "cell_type": "code",
   "execution_count": 126,
   "metadata": {},
   "outputs": [],
   "source": [
    "import math\n",
    "import os\n",
    "import random\n",
    "import re\n",
    "import sys\n",
    "\n",
    "# Complete the biggerIsGreater function below.\n",
    "def biggerIsGreater(w):\n",
    "    dec_str = w[-1]\n",
    "    i=-1\n",
    "    while(i>=-len(w)):\n",
    "        if w[i]<=w[i-1]:\n",
    "            dec_str=w[i-1:]\n",
    "        else:\n",
    "            break\n",
    "        print('----',dec_str)\n",
    "        i-=1\n",
    "    print(dec_str)\n",
    "    if dec_str==w:\n",
    "        return 'no answer'\n",
    "    else:\n",
    "        for k in sorted(dec_str):\n",
    "            if w[i-1] < k:\n",
    "                min_dec_str = k\n",
    "                break\n",
    "        dec_str = dec_str[:dec_str.find(min_dec_str)]+w[i-1]+dec_str[dec_str.find(min_dec_str)+1:]\n",
    "        w = w[:i-1]+min_dec_str+''.join(sorted(dec_str))\n",
    "    return w"
   ]
  }
 ],
 "metadata": {
  "kernelspec": {
   "display_name": "Python 3",
   "language": "python",
   "name": "python3"
  },
  "language_info": {
   "codemirror_mode": {
    "name": "ipython",
    "version": 3
   },
   "file_extension": ".py",
   "mimetype": "text/x-python",
   "name": "python",
   "nbconvert_exporter": "python",
   "pygments_lexer": "ipython3",
   "version": "3.8.3"
  }
 },
 "nbformat": 4,
 "nbformat_minor": 4
}
