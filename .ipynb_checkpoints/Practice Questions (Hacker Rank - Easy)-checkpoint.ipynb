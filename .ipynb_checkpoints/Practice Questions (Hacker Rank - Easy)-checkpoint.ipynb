{
 "cells": [
  {
   "cell_type": "code",
   "execution_count": 1,
   "metadata": {},
   "outputs": [],
   "source": [
    "# Complete the countApplesAndOranges function below.\n",
    "def countApplesAndOranges(s, t, a, b, apples, oranges):\n",
    "    house = range(s, t+1)\n",
    "    apples_loc_inhouse = [app+a for app in apples if app+a in house]\n",
    "    oranges_loc_inhouse = [org+b for org in oranges if org+b in house]\n",
    "    app_in_house = len(apples_loc_inhouse)\n",
    "    org_in_house = len(oranges_loc_inhouse)\n",
    "    print(app_in_house)\n",
    "    print(org_in_house)"
   ]
  },
  {
   "cell_type": "code",
   "execution_count": 2,
   "metadata": {},
   "outputs": [],
   "source": [
    "# Complete the kangaroo function below.\n",
    "def kangaroo(x1, v1, x2, v2):\n",
    "    while True:\n",
    "        # Break Parameter\n",
    "        if (v1>=v2 and x1>x2) or (v2>=v1 and x2>x1):\n",
    "            return \"NO\"\n",
    "        elif x1 == x2:\n",
    "            return \"YES\"\n",
    "        x1+=v1\n",
    "        x2+=v2"
   ]
  },
  {
   "cell_type": "code",
   "execution_count": 4,
   "metadata": {},
   "outputs": [],
   "source": [
    "# Complete the 'getTotalX' function below.\n",
    "def getTotalX(a, b):\n",
    "    # Write your code here\n",
    "    max_a = max(a)\n",
    "    min_b = min(b)\n",
    "    factors = []\n",
    "    final_result = []\n",
    "\n",
    "    for i in range(max_a, min_b+1):\n",
    "        is_divisible = True\n",
    "        for j in a:\n",
    "            if i%j !=0:\n",
    "                is_divisible = False\n",
    "                break\n",
    "        if is_divisible:\n",
    "            factors.append(i)\n",
    "    print(factors)\n",
    "    \n",
    "    for div in factors:\n",
    "        is_factor = True\n",
    "        for big in b:\n",
    "            if big % div != 0:\n",
    "                is_factor=False\n",
    "                break\n",
    "        if is_factor:\n",
    "            final_result.append(div)\n",
    "\n",
    "    return len(final_result)"
   ]
  },
  {
   "cell_type": "code",
   "execution_count": 43,
   "metadata": {},
   "outputs": [],
   "source": [
    "# Complete the hurdleRace function below.\n",
    "def hurdleRace(k, height):\n",
    "    max_height = max(height)\n",
    "    if max_height <= k:\n",
    "        return 0\n",
    "    else:\n",
    "        return (max_height - k)"
   ]
  },
  {
   "cell_type": "code",
   "execution_count": 42,
   "metadata": {},
   "outputs": [],
   "source": [
    "# Complete the designerPdfViewer function below.\n",
    "def designerPdfViewer(h, word):\n",
    "    temp_height = []\n",
    "    for alph in list(word):\n",
    "        temp_height.append(h[ord(alph)-97])\n",
    "    height = max(temp_height)\n",
    "    breadth = len(word)\n",
    "    return height*breadth"
   ]
  },
  {
   "cell_type": "code",
   "execution_count": 62,
   "metadata": {},
   "outputs": [],
   "source": [
    "# Complete the jumpingOnClouds function below.\n",
    "def jumpingOnClouds(c, k):\n",
    "    e = 100\n",
    "    cloud_index = 0\n",
    "    n = len(c)\n",
    "    while (cloud_index+k)%n != 0:\n",
    "        cloud_index = (cloud_index+k)%n\n",
    "        if c[cloud_index] == 1:\n",
    "            e-=3\n",
    "        else:\n",
    "            e-=1\n",
    "    if c[0] == 1:\n",
    "            e-=3\n",
    "    else:\n",
    "            e-=1\n",
    "    return e\n"
   ]
  },
  {
   "cell_type": "code",
   "execution_count": 63,
   "metadata": {},
   "outputs": [],
   "source": [
    "# Complete the findDigits function below.\n",
    "def findDigits(n):\n",
    "    count=0\n",
    "    for digit in list(str(n)):\n",
    "        if int(digit)==0:\n",
    "            continue\n",
    "        if n % int(digit)==0:\n",
    "            count+=1\n",
    "    return count"
   ]
  },
  {
   "cell_type": "code",
   "execution_count": 143,
   "metadata": {},
   "outputs": [],
   "source": [
    "# Complete the appendAndDelete function below.\n",
    "def appendAndDelete(s, t, k):\n",
    "    if k >= len(s)+len(t):\n",
    "        return 'Yes'\n",
    "    first_f = 0\n",
    "    for i, j in zip(t, s):\n",
    "        if i==j:\n",
    "            first_f+=1\n",
    "        else:\n",
    "            break\n",
    "    print(first_f)\n",
    "    if (k-len(s)-len(t)+2*first_f) % 2 == 0 and k>=len(s)+len(t)-2*first_f:\n",
    "        return 'Yes'\n",
    "    else:\n",
    "        return 'No'"
   ]
  },
  {
   "cell_type": "code",
   "execution_count": 153,
   "metadata": {},
   "outputs": [],
   "source": [
    "def squares(a, b):\n",
    "    min_sqrt = math.ceil(math.sqrt(a))\n",
    "    max_sqrt = math.floor(math.sqrt(b))\n",
    "    print(max_sqrt-min_sqrt+1)"
   ]
  },
  {
   "cell_type": "code",
   "execution_count": 171,
   "metadata": {},
   "outputs": [],
   "source": [
    "# Complete the libraryFine function below.\n",
    "def libraryFine(d1, m1, y1, d2, m2, y2):\n",
    "    if (y1>y2):\n",
    "        return 10000\n",
    "    elif m1>m2 and y1==y2:\n",
    "        return (m1-m2)*500\n",
    "    elif d1>d2 and m1==m2 and y1==y2:\n",
    "        return (d1-d2)*15\n",
    "    else:\n",
    "        return 0"
   ]
  },
  {
   "cell_type": "code",
   "execution_count": 178,
   "metadata": {},
   "outputs": [],
   "source": [
    "# Complete the cutTheSticks function below.\n",
    "def cutTheSticks(arr):\n",
    "    sticks_left = []\n",
    "    while len(arr)>0:\n",
    "        sticks_left.append(len(arr))\n",
    "        iter_min = min(arr)\n",
    "        arr = [val-iter_min for val in arr if val-iter_min > 0]\n",
    "    return sticks_left\n"
   ]
  },
  {
   "cell_type": "code",
   "execution_count": 4,
   "metadata": {},
   "outputs": [],
   "source": [
    "# Complete the repeatedString function below.\n",
    "def repeatedString(s, n):\n",
    "    num_a = list(s).count('a')\n",
    "    comp_rep = n//len(s)\n",
    "    print(num_a, comp_rep)\n",
    "    rest_rep = n % len(s)\n",
    "    num_rest_a = list(s)[:rest_rep].count('a')\n",
    "    total_a = num_a*comp_rep + num_rest_a\n",
    "    return total_a"
   ]
  },
  {
   "cell_type": "code",
   "execution_count": 6,
   "metadata": {},
   "outputs": [],
   "source": [
    "# Complete the jumpingOnClouds function below.\n",
    "def jumpingOnClouds(c):\n",
    "    index = 0\n",
    "    total_step = 1\n",
    "    while index+2 < n-1:\n",
    "        if c[index+1] == 0 and c[index+2] == 0:\n",
    "            index +=2\n",
    "        elif c[index+1] == 0 and c[index+2] !=0:\n",
    "            index+=1\n",
    "        else:\n",
    "            index+=2\n",
    "        total_step+=1\n",
    "    return total_step"
   ]
  },
  {
   "cell_type": "code",
   "execution_count": 5,
   "metadata": {},
   "outputs": [],
   "source": [
    "# Complete the equalizeArray function below.\n",
    "def equalizeArray(arr):\n",
    "    count_max = max([arr.count(val_max) for val_max in list(set(arr))])\n",
    "    return len(arr) - count_max"
   ]
  },
  {
   "cell_type": "code",
   "execution_count": 84,
   "metadata": {},
   "outputs": [],
   "source": [
    "import math\n",
    "import os\n",
    "import random\n",
    "import re\n",
    "import sys\n",
    "\n",
    "# Complete the kaprekarNumbers function below.\n",
    "def kaprekarNumbers(p, q):\n",
    "    final_result = []\n",
    "    for i in range(p, q+1):\n",
    "        i_sqrd = i**2\n",
    "        #convert to string\n",
    "        i_str_sqrd = str(i_sqrd)\n",
    "        i_len=len(str(i))\n",
    "        l = i_str_sqrd[:-i_len] or '0'\n",
    "        r = i_str_sqrd[-i_len:]\n",
    "        if int(l)+int(r) == i:\n",
    "            final_result.append(str(i))\n",
    "            \n",
    "    if len(final_result)>0:\n",
    "        print(' '.join(final_result))\n",
    "    else:\n",
    "        print('INVALID RANGE')"
   ]
  },
  {
   "cell_type": "code",
   "execution_count": 208,
   "metadata": {},
   "outputs": [],
   "source": [
    "# Complete the beautifulTriplets function below.\n",
    "def comboination_index(index_list, n):\n",
    "#     print('\\n', index_list, n)\n",
    "    if n==0:\n",
    "        return [[]]\n",
    "    \n",
    "    l=[]\n",
    "    for i in range(0,len(index_list)):\n",
    "        m=index_list[i]\n",
    "        remLst=index_list[i+1:]\n",
    "        for p in comboination_index(remLst, n-1):\n",
    "#             print(comboination_index(remLst, n-1))\n",
    "            l.append([m]+p)\n",
    "#         print(l, '\\n')\n",
    "    return l\n",
    "\n",
    "\n",
    "def beautifulTriplets(d, arr):\n",
    "    bi_diff = []\n",
    "    for i in range(len(arr)):\n",
    "        for j in range(i+1, len(arr)):\n",
    "            if arr[j] - arr[i] == d:\n",
    "                for k in range(j+1, len(arr)):\n",
    "                    if arr[k] - arr[j] == d:\n",
    "                        bi_diff.append((arr[i], arr[j], arr[k]))\n",
    "                        break\n",
    "                break\n",
    "    return bi_diff"
   ]
  },
  {
   "cell_type": "code",
   "execution_count": 225,
   "metadata": {},
   "outputs": [],
   "source": [
    "# Complete the minimumDistances function below.\n",
    "def minimumDistances(a):\n",
    "    dist_min = []\n",
    "    for i, val in enumerate(a):\n",
    "        if val in a[i+1:]:\n",
    "            new_dist = a[i+1:].index(val)+1\n",
    "            dist_min.append(new_dist)\n",
    "            \n",
    "    if len(dist_min) == 0:\n",
    "        return -1\n",
    "    else:\n",
    "        return min(dist_min)"
   ]
  },
  {
   "cell_type": "code",
   "execution_count": null,
   "metadata": {},
   "outputs": [],
   "source": []
  }
 ],
 "metadata": {
  "kernelspec": {
   "display_name": "Python 3",
   "language": "python",
   "name": "python3"
  },
  "language_info": {
   "codemirror_mode": {
    "name": "ipython",
    "version": 3
   },
   "file_extension": ".py",
   "mimetype": "text/x-python",
   "name": "python",
   "nbconvert_exporter": "python",
   "pygments_lexer": "ipython3",
   "version": "3.8.3"
  }
 },
 "nbformat": 4,
 "nbformat_minor": 4
}
