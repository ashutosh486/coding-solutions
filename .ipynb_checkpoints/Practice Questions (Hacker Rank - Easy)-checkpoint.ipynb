{
 "cells": [
  {
   "cell_type": "code",
   "execution_count": 1,
   "metadata": {},
   "outputs": [],
   "source": [
    "# Complete the countApplesAndOranges function below.\n",
    "def countApplesAndOranges(s, t, a, b, apples, oranges):\n",
    "    house = range(s, t+1)\n",
    "    apples_loc_inhouse = [app+a for app in apples if app+a in house]\n",
    "    oranges_loc_inhouse = [org+b for org in oranges if org+b in house]\n",
    "    app_in_house = len(apples_loc_inhouse)\n",
    "    org_in_house = len(oranges_loc_inhouse)\n",
    "    print(app_in_house)\n",
    "    print(org_in_house)"
   ]
  },
  {
   "cell_type": "code",
   "execution_count": 2,
   "metadata": {},
   "outputs": [],
   "source": [
    "# Complete the kangaroo function below.\n",
    "def kangaroo(x1, v1, x2, v2):\n",
    "    while True:\n",
    "        # Break Parameter\n",
    "        if (v1>=v2 and x1>x2) or (v2>=v1 and x2>x1):\n",
    "            return \"NO\"\n",
    "        elif x1 == x2:\n",
    "            return \"YES\"\n",
    "        x1+=v1\n",
    "        x2+=v2"
   ]
  },
  {
   "cell_type": "code",
   "execution_count": 4,
   "metadata": {},
   "outputs": [],
   "source": [
    "# Complete the 'getTotalX' function below.\n",
    "def getTotalX(a, b):\n",
    "    # Write your code here\n",
    "    max_a = max(a)\n",
    "    min_b = min(b)\n",
    "    factors = []\n",
    "    final_result = []\n",
    "\n",
    "    for i in range(max_a, min_b+1):\n",
    "        is_divisible = True\n",
    "        for j in a:\n",
    "            if i%j !=0:\n",
    "                is_divisible = False\n",
    "                break\n",
    "        if is_divisible:\n",
    "            factors.append(i)\n",
    "    print(factors)\n",
    "    \n",
    "    for div in factors:\n",
    "        is_factor = True\n",
    "        for big in b:\n",
    "            if big % div != 0:\n",
    "                is_factor=False\n",
    "                break\n",
    "        if is_factor:\n",
    "            final_result.append(div)\n",
    "\n",
    "    return len(final_result)"
   ]
  },
  {
   "cell_type": "code",
   "execution_count": 43,
   "metadata": {},
   "outputs": [],
   "source": [
    "# Complete the hurdleRace function below.\n",
    "def hurdleRace(k, height):\n",
    "    max_height = max(height)\n",
    "    if max_height <= k:\n",
    "        return 0\n",
    "    else:\n",
    "        return (max_height - k)"
   ]
  },
  {
   "cell_type": "code",
   "execution_count": 42,
   "metadata": {},
   "outputs": [],
   "source": [
    "# Complete the designerPdfViewer function below.\n",
    "def designerPdfViewer(h, word):\n",
    "    temp_height = []\n",
    "    for alph in list(word):\n",
    "        temp_height.append(h[ord(alph)-97])\n",
    "    height = max(temp_height)\n",
    "    breadth = len(word)\n",
    "    return height*breadth"
   ]
  },
  {
   "cell_type": "code",
   "execution_count": 61,
   "metadata": {},
   "outputs": [
    {
     "data": {
      "text/plain": [
       "97"
      ]
     },
     "execution_count": 61,
     "metadata": {},
     "output_type": "execute_result"
    }
   ],
   "source": [
    "# Complete the jumpingOnClouds function below.\n",
    "def jumpingOnClouds(c, k):\n",
    "    e = 100\n",
    "    cloud_index = 0\n",
    "    n = len(c)\n",
    "    while (cloud_index+k)%n != 0:\n",
    "        cloud_index = (cloud_index+k)%n\n",
    "        if c[cloud_index] == 1:\n",
    "            e-=3\n",
    "        else:\n",
    "            e-=1\n",
    "    if c[0] == 1:\n",
    "            e-=3\n",
    "    else:\n",
    "            e-=1\n",
    "    return e\n"
   ]
  },
  {
   "cell_type": "code",
   "execution_count": null,
   "metadata": {},
   "outputs": [],
   "source": []
  },
  {
   "cell_type": "markdown",
   "metadata": {},
   "source": [
    "## Rough Work"
   ]
  },
  {
   "cell_type": "code",
   "execution_count": 17,
   "metadata": {},
   "outputs": [
    {
     "name": "stdout",
     "output_type": "stream",
     "text": [
      "19\n",
      "14\n",
      "24\n"
     ]
    },
    {
     "data": {
      "text/plain": [
       "[19, 14, 24]"
      ]
     },
     "execution_count": 17,
     "metadata": {},
     "output_type": "execute_result"
    }
   ],
   "source": [
    "temp_height = []\n",
    "for alph in list('toy'):\n",
    "    print(ord(alph)-97)\n",
    "    temp_height.append(ord(alph)-97)\n",
    "temp_height"
   ]
  },
  {
   "cell_type": "code",
   "execution_count": 19,
   "metadata": {},
   "outputs": [
    {
     "ename": "IndexError",
     "evalue": "pop from empty list",
     "output_type": "error",
     "traceback": [
      "\u001b[1;31m---------------------------------------------------------------------------\u001b[0m",
      "\u001b[1;31mIndexError\u001b[0m                                Traceback (most recent call last)",
      "\u001b[1;32m<ipython-input-19-e39b02aae068>\u001b[0m in \u001b[0;36m<module>\u001b[1;34m\u001b[0m\n\u001b[1;32m----> 1\u001b[1;33m \u001b[0ma\u001b[0m\u001b[1;33m.\u001b[0m\u001b[0mpop\u001b[0m\u001b[1;33m(\u001b[0m\u001b[1;36m0\u001b[0m\u001b[1;33m)\u001b[0m\u001b[1;33m\u001b[0m\u001b[1;33m\u001b[0m\u001b[0m\n\u001b[0m\u001b[0;32m      2\u001b[0m \u001b[0ma\u001b[0m\u001b[1;33m\u001b[0m\u001b[1;33m\u001b[0m\u001b[0m\n",
      "\u001b[1;31mIndexError\u001b[0m: pop from empty list"
     ]
    }
   ],
   "source": [
    "a.pop(0)\n",
    "a"
   ]
  },
  {
   "cell_type": "code",
   "execution_count": null,
   "metadata": {},
   "outputs": [],
   "source": []
  }
 ],
 "metadata": {
  "kernelspec": {
   "display_name": "Python 3",
   "language": "python",
   "name": "python3"
  },
  "language_info": {
   "codemirror_mode": {
    "name": "ipython",
    "version": 3
   },
   "file_extension": ".py",
   "mimetype": "text/x-python",
   "name": "python",
   "nbconvert_exporter": "python",
   "pygments_lexer": "ipython3",
   "version": "3.8.3"
  }
 },
 "nbformat": 4,
 "nbformat_minor": 4
}
