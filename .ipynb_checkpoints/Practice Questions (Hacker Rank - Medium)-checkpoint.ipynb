{
 "cells": [
  {
   "cell_type": "code",
   "execution_count": 47,
   "metadata": {},
   "outputs": [
    {
     "name": "stdout",
     "output_type": "stream",
     "text": [
      "16\n"
     ]
    }
   ],
   "source": [
    "# Complete the formingMagicSquare function below.\n",
    "def formingMagicSquare(s):\n",
    "    matrix_list = [[[8, 1, 6], [3, 5, 7], [4, 9, 2]],\n",
    "               [[6, 1, 8], [7, 5, 3], [2, 9, 4]],\n",
    "               [[4, 9, 2], [3, 5, 7], [8, 1, 6]],\n",
    "               [[2, 9, 4], [7, 5, 3], [6, 1, 8]],\n",
    "               [[8, 3, 4], [1, 5, 9], [6, 7, 2]],\n",
    "               [[4, 3, 8], [9, 5, 1], [2, 7, 6]],\n",
    "               [[6, 7, 2], [1, 5, 9], [8, 3, 4]],\n",
    "               [[2, 7, 6], [9, 5, 1], [4, 3, 8]]]\n",
    "    min_cost = 100\n",
    "    for matrix in matrix_list:\n",
    "        temp = 0\n",
    "        for a, b in zip(s, matrix):\n",
    "            for i, j in zip(a, b):\n",
    "                temp+=abs(i-j)\n",
    "        if temp<min_cost:\n",
    "            min_cost = temp\n",
    "    return min_cost"
   ]
  },
  {
   "cell_type": "code",
   "execution_count": 49,
   "metadata": {},
   "outputs": [
    {
     "name": "stdout",
     "output_type": "stream",
     "text": [
      "99\n",
      "933262154439441526816992388562667004907159682643816214685929638952175999932299156089414639761565182862536979208272237582511852109168640000000000000000000000\n"
     ]
    }
   ],
   "source": [
    "def extraLongFactorials(n):\n",
    "    factorial = 1\n",
    "    for i in range(1, n+1):\n",
    "        factorial*=i\n",
    "    print(factorial)"
   ]
  },
  {
   "cell_type": "code",
   "execution_count": 13,
   "metadata": {},
   "outputs": [
    {
     "name": "stdout",
     "output_type": "stream",
     "text": [
      "[100, 100, 50, 40, 40, 20, 10, 4]\n",
      "[5, 25, 50, 120]\n"
     ]
    },
    {
     "ename": "NameError",
     "evalue": "name 'player_score' is not defined",
     "output_type": "error",
     "traceback": [
      "\u001b[1;31m---------------------------------------------------------------------------\u001b[0m",
      "\u001b[1;31mNameError\u001b[0m                                 Traceback (most recent call last)",
      "\u001b[1;32m<ipython-input-13-b4e922bb1eb3>\u001b[0m in \u001b[0;36m<module>\u001b[1;34m\u001b[0m\n\u001b[0;32m     53\u001b[0m \u001b[1;31m#     player = list(map(int, input().rstrip().split()))\u001b[0m\u001b[1;33m\u001b[0m\u001b[1;33m\u001b[0m\u001b[1;33m\u001b[0m\u001b[0m\n\u001b[0;32m     54\u001b[0m \u001b[1;33m\u001b[0m\u001b[0m\n\u001b[1;32m---> 55\u001b[1;33m     \u001b[0mresult\u001b[0m \u001b[1;33m=\u001b[0m \u001b[0mclimbingLeaderboard\u001b[0m\u001b[1;33m(\u001b[0m\u001b[0mranked\u001b[0m\u001b[1;33m,\u001b[0m \u001b[0mplayer\u001b[0m\u001b[1;33m)\u001b[0m\u001b[1;33m\u001b[0m\u001b[1;33m\u001b[0m\u001b[0m\n\u001b[0m\u001b[0;32m     56\u001b[0m     \u001b[0mprint\u001b[0m\u001b[1;33m(\u001b[0m\u001b[0mresult\u001b[0m\u001b[1;33m)\u001b[0m\u001b[1;33m\u001b[0m\u001b[1;33m\u001b[0m\u001b[0m\n\u001b[0;32m     57\u001b[0m \u001b[1;33m\u001b[0m\u001b[0m\n",
      "\u001b[1;32m<ipython-input-13-b4e922bb1eb3>\u001b[0m in \u001b[0;36mclimbingLeaderboard\u001b[1;34m(ranked, player)\u001b[0m\n\u001b[0;32m     25\u001b[0m     \u001b[0mmid\u001b[0m \u001b[1;33m=\u001b[0m \u001b[1;33m(\u001b[0m\u001b[0mstart\u001b[0m\u001b[1;33m+\u001b[0m\u001b[0mend\u001b[0m\u001b[1;33m)\u001b[0m \u001b[1;33m//\u001b[0m \u001b[1;36m2\u001b[0m\u001b[1;33m\u001b[0m\u001b[1;33m\u001b[0m\u001b[0m\n\u001b[0;32m     26\u001b[0m     \u001b[0mplayer_rank\u001b[0m \u001b[1;33m=\u001b[0m \u001b[1;33m[\u001b[0m\u001b[1;33m]\u001b[0m\u001b[1;33m\u001b[0m\u001b[1;33m\u001b[0m\u001b[0m\n\u001b[1;32m---> 27\u001b[1;33m     \u001b[1;32mwhile\u001b[0m \u001b[0mplayer_score\u001b[0m \u001b[1;32min\u001b[0m \u001b[0mplayer\u001b[0m\u001b[1;33m:\u001b[0m\u001b[1;33m\u001b[0m\u001b[1;33m\u001b[0m\u001b[0m\n\u001b[0m\u001b[0;32m     28\u001b[0m         \u001b[1;32mwhile\u001b[0m \u001b[1;33m(\u001b[0m\u001b[0mstart\u001b[0m\u001b[1;33m<\u001b[0m\u001b[0mmid\u001b[0m\u001b[1;33m)\u001b[0m\u001b[1;33m:\u001b[0m\u001b[1;33m\u001b[0m\u001b[1;33m\u001b[0m\u001b[0m\n\u001b[0;32m     29\u001b[0m             \u001b[1;32mif\u001b[0m \u001b[0mplayer_score\u001b[0m \u001b[1;33m==\u001b[0m \u001b[0mranked\u001b[0m\u001b[1;33m[\u001b[0m\u001b[0mmid\u001b[0m\u001b[1;33m]\u001b[0m\u001b[1;33m:\u001b[0m\u001b[1;33m\u001b[0m\u001b[1;33m\u001b[0m\u001b[0m\n",
      "\u001b[1;31mNameError\u001b[0m: name 'player_score' is not defined"
     ]
    }
   ],
   "source": [
    "#!/bin/python3\n",
    "\n",
    "import math\n",
    "import os\n",
    "import random\n",
    "import re\n",
    "import sys\n",
    "\n",
    "#\n",
    "# Complete the 'climbingLeaderboard' function below.\n",
    "#\n",
    "# The function is expected to return an INTEGER_ARRAY.\n",
    "# The function accepts following parameters:\n",
    "#  1. INTEGER_ARRAY ranked\n",
    "#  2. INTEGER_ARRAY player\n",
    "#\n",
    "\n",
    "def climbingLeaderboard(ranked, player):\n",
    "    print(ranked)\n",
    "    print(player)\n",
    "    # Write your code here\n",
    "    \n",
    "    start = 0\n",
    "    end = len(ranked) - 1\n",
    "    mid = (start+end) // 2\n",
    "    player_rank = []\n",
    "    while player_score in player:\n",
    "        while (start<mid):\n",
    "            if player_score == ranked[mid]:\n",
    "                break\n",
    "            elif player_score < ranked[mid]:\n",
    "                start = mid+1\n",
    "            else:\n",
    "                end = mid-1\n",
    "            mid = (start+end) // 2\n",
    "        ranked.insert(mid+1, player_score)\n",
    "        \n",
    "        prev = ranked[0]\n",
    "        current_rank = 1\n",
    "        for rank in ranked[1:]:\n",
    "            if prev != rank:\n",
    "                current_rank+=1\n",
    "            if rank == player_score:\n",
    "                print(player_rank.append(current_rank))\n",
    "                break\n",
    "            prev = rank\n",
    "        print(player_rank)\n",
    "\n",
    "if __name__ == '__main__':\n",
    "#     ranked = list(map(int, input().rstrip().split()))\n",
    "    ranked = [100, 100, 50, 40, 40, 20, 10, 4]\n",
    "    player = [5, 25, 50, 120]\n",
    "#     player = list(map(int, input().rstrip().split()))\n",
    "\n",
    "    result = climbingLeaderboard(ranked, player)\n",
    "    print(result)\n",
    "\n"
   ]
  },
  {
   "cell_type": "code",
   "execution_count": null,
   "metadata": {},
   "outputs": [],
   "source": []
  }
 ],
 "metadata": {
  "kernelspec": {
   "display_name": "Python 3",
   "language": "python",
   "name": "python3"
  },
  "language_info": {
   "codemirror_mode": {
    "name": "ipython",
    "version": 3
   },
   "file_extension": ".py",
   "mimetype": "text/x-python",
   "name": "python",
   "nbconvert_exporter": "python",
   "pygments_lexer": "ipython3",
   "version": "3.8.3"
  }
 },
 "nbformat": 4,
 "nbformat_minor": 4
}
