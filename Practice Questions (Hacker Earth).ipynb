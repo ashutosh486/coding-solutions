{
 "cells": [
  {
   "cell_type": "code",
   "execution_count": null,
   "metadata": {},
   "outputs": [],
   "source": [
    "## Daisy and the Password\n",
    "num = input()                  # Reading input from STDIN\n",
    "for i in range(int(num)):\n",
    "    inp_name = input()\n",
    "    S, P = inp_name.split(\" \")\n",
    "    possible = False\n",
    "    st_idx_found = [i for i, _ in enumerate(P) if P.startswith(S, i)]\n",
    "    for start_idx in st_idx_found:\n",
    "        end_idx = start_idx+len(S)\n",
    "        if S == P[:start_idx] + P[end_idx:]:\n",
    "            possible=True\n",
    "            break\n",
    "    \n",
    "    if possible:\n",
    "        print(\"Possible\")\n",
    "    else:\n",
    "        print(\"Impossible\")"
   ]
  }
 ],
 "metadata": {
  "language_info": {
   "name": "python"
  },
  "orig_nbformat": 4
 },
 "nbformat": 4,
 "nbformat_minor": 2
}
