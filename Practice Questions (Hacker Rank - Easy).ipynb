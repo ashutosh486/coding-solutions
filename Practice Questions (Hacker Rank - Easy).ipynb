{
 "cells": [
  {
   "cell_type": "code",
   "execution_count": 1,
   "metadata": {},
   "outputs": [],
   "source": [
    "# Complete the countApplesAndOranges function below.\n",
    "def countApplesAndOranges(s, t, a, b, apples, oranges):\n",
    "    house = range(s, t+1)\n",
    "    apples_loc_inhouse = [app+a for app in apples if app+a in house]\n",
    "    oranges_loc_inhouse = [org+b for org in oranges if org+b in house]\n",
    "    app_in_house = len(apples_loc_inhouse)\n",
    "    org_in_house = len(oranges_loc_inhouse)\n",
    "    print(app_in_house)\n",
    "    print(org_in_house)"
   ]
  },
  {
   "cell_type": "code",
   "execution_count": 2,
   "metadata": {},
   "outputs": [],
   "source": [
    "# Complete the kangaroo function below.\n",
    "def kangaroo(x1, v1, x2, v2):\n",
    "    while True:\n",
    "        # Break Parameter\n",
    "        if (v1>=v2 and x1>x2) or (v2>=v1 and x2>x1):\n",
    "            return \"NO\"\n",
    "        elif x1 == x2:\n",
    "            return \"YES\"\n",
    "        x1+=v1\n",
    "        x2+=v2"
   ]
  },
  {
   "cell_type": "code",
   "execution_count": 4,
   "metadata": {},
   "outputs": [],
   "source": [
    "# Complete the 'getTotalX' function below.\n",
    "def getTotalX(a, b):\n",
    "    # Write your code here\n",
    "    max_a = max(a)\n",
    "    min_b = min(b)\n",
    "    factors = []\n",
    "    final_result = []\n",
    "\n",
    "    for i in range(max_a, min_b+1):\n",
    "        is_divisible = True\n",
    "        for j in a:\n",
    "            if i%j !=0:\n",
    "                is_divisible = False\n",
    "                break\n",
    "        if is_divisible:\n",
    "            factors.append(i)\n",
    "    print(factors)\n",
    "    \n",
    "    for div in factors:\n",
    "        is_factor = True\n",
    "        for big in b:\n",
    "            if big % div != 0:\n",
    "                is_factor=False\n",
    "                break\n",
    "        if is_factor:\n",
    "            final_result.append(div)\n",
    "\n",
    "    return len(final_result)"
   ]
  },
  {
   "cell_type": "code",
   "execution_count": 43,
   "metadata": {},
   "outputs": [],
   "source": [
    "# Complete the hurdleRace function below.\n",
    "def hurdleRace(k, height):\n",
    "    max_height = max(height)\n",
    "    if max_height <= k:\n",
    "        return 0\n",
    "    else:\n",
    "        return (max_height - k)"
   ]
  },
  {
   "cell_type": "code",
   "execution_count": 42,
   "metadata": {},
   "outputs": [],
   "source": [
    "# Complete the designerPdfViewer function below.\n",
    "def designerPdfViewer(h, word):\n",
    "    temp_height = []\n",
    "    for alph in list(word):\n",
    "        temp_height.append(h[ord(alph)-97])\n",
    "    height = max(temp_height)\n",
    "    breadth = len(word)\n",
    "    return height*breadth"
   ]
  },
  {
   "cell_type": "code",
   "execution_count": 62,
   "metadata": {},
   "outputs": [],
   "source": [
    "# Complete the jumpingOnClouds function below.\n",
    "def jumpingOnClouds(c, k):\n",
    "    e = 100\n",
    "    cloud_index = 0\n",
    "    n = len(c)\n",
    "    while (cloud_index+k)%n != 0:\n",
    "        cloud_index = (cloud_index+k)%n\n",
    "        if c[cloud_index] == 1:\n",
    "            e-=3\n",
    "        else:\n",
    "            e-=1\n",
    "    if c[0] == 1:\n",
    "            e-=3\n",
    "    else:\n",
    "            e-=1\n",
    "    return e\n"
   ]
  },
  {
   "cell_type": "code",
   "execution_count": 63,
   "metadata": {},
   "outputs": [],
   "source": [
    "# Complete the findDigits function below.\n",
    "def findDigits(n):\n",
    "    count=0\n",
    "    for digit in list(str(n)):\n",
    "        if int(digit)==0:\n",
    "            continue\n",
    "        if n % int(digit)==0:\n",
    "            count+=1\n",
    "    return count"
   ]
  },
  {
   "cell_type": "code",
   "execution_count": 143,
   "metadata": {},
   "outputs": [],
   "source": [
    "# Complete the appendAndDelete function below.\n",
    "def appendAndDelete(s, t, k):\n",
    "    if k >= len(s)+len(t):\n",
    "        return 'Yes'\n",
    "    first_f = 0\n",
    "    for i, j in zip(t, s):\n",
    "        if i==j:\n",
    "            first_f+=1\n",
    "        else:\n",
    "            break\n",
    "    print(first_f)\n",
    "    if (k-len(s)-len(t)+2*first_f) % 2 == 0 and k>=len(s)+len(t)-2*first_f:\n",
    "        return 'Yes'\n",
    "    else:\n",
    "        return 'No'"
   ]
  },
  {
   "cell_type": "code",
   "execution_count": 153,
   "metadata": {},
   "outputs": [],
   "source": [
    "def squares(a, b):\n",
    "    min_sqrt = math.ceil(math.sqrt(a))\n",
    "    max_sqrt = math.floor(math.sqrt(b))\n",
    "    print(max_sqrt-min_sqrt+1)"
   ]
  },
  {
   "cell_type": "code",
   "execution_count": 171,
   "metadata": {},
   "outputs": [],
   "source": [
    "# Complete the libraryFine function below.\n",
    "def libraryFine(d1, m1, y1, d2, m2, y2):\n",
    "    if (y1>y2):\n",
    "        return 10000\n",
    "    elif m1>m2 and y1==y2:\n",
    "        return (m1-m2)*500\n",
    "    elif d1>d2 and m1==m2 and y1==y2:\n",
    "        return (d1-d2)*15\n",
    "    else:\n",
    "        return 0"
   ]
  }
 ],
 "metadata": {
  "kernelspec": {
   "display_name": "Python 3",
   "language": "python",
   "name": "python3"
  },
  "language_info": {
   "codemirror_mode": {
    "name": "ipython",
    "version": 3
   },
   "file_extension": ".py",
   "mimetype": "text/x-python",
   "name": "python",
   "nbconvert_exporter": "python",
   "pygments_lexer": "ipython3",
   "version": "3.8.3"
  }
 },
 "nbformat": 4,
 "nbformat_minor": 4
}
