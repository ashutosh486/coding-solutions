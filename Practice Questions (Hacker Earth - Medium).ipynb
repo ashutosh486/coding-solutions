{
 "cells": [
  {
   "cell_type": "code",
   "execution_count": null,
   "metadata": {},
   "outputs": [],
   "source": [
    "## Best Index\n",
    "import math\n",
    "import re\n",
    "\n",
    "n = int(input())\n",
    "An = list(map(int, re.split(\"\\s+\", input())))\n",
    "\n",
    "## Quadratic Positive Solution\n",
    "p = int((-1 + math.sqrt(1+8*(n)))//2)\n",
    "last_index = int(p*(p+1)//2)\n",
    "track_sum = temp_sum = sum(An[:last_index])\n",
    "\n",
    "for i in range(1, n):\n",
    "    \n",
    "    temp_sum -= An[i-1]\n",
    "    if last_index < n:\n",
    "        temp_sum += An[last_index]\n",
    "        last_index += 1\n",
    "    else:\n",
    "        p -= 1\n",
    "        temp_sum -= sum(An[n-p:n])\n",
    "        last_index -= p\n",
    "\n",
    "    if track_sum < temp_sum:\n",
    "        track_sum = temp_sum\n",
    "print(track_sum)"
   ]
  }
 ],
 "metadata": {
  "language_info": {
   "name": "python"
  }
 },
 "nbformat": 4,
 "nbformat_minor": 2
}
